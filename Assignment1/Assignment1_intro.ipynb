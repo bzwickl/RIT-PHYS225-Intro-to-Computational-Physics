{
 "cells": [
  {
   "cell_type": "markdown",
   "metadata": {
    "collapsed": false
   },
   "source": [
    "# Assignment 1\n",
    "By the end of this first assignment you will be able to\n",
    "1. Use Python and Jupyter notebooks as a calculator\n",
    "1. Describe and use basic data types for mathematics\n",
    "1. Use Numpy package for creating arrays of numbers and doing calculations\n",
    "1. Create scatter and line plots\n",
    "1. Apply basic formatting to graphs, such as color, data point shape, x and y labels, x and y limits\n",
    "1. Import a data set as a Numpy Array\n",
    "1. Learn how to index (select particular rows and colums) within a data set (for plotting and analysis)\n",
    "1. Learn how to add formatting and commentary to your Jupyter notebook using markdown"
   ]
  },
  {
   "cell_type": "markdown",
   "metadata": {
    "collapsed": false
   },
   "source": [
    "## Using Python and Jupyer Notebooks as a calculator"
   ]
  },
  {
   "cell_type": "code",
   "execution_count": 1,
   "metadata": {
    "collapsed": false
   },
   "outputs": [
    {
     "data": {
      "text/plain": [
       "5.5"
      ]
     },
     "execution_count": 1,
     "metadata": {},
     "output_type": "execute_result"
    }
   ],
   "source": [
    "3+2.5  # hit shift+enter to execute a cell"
   ]
  },
  {
   "cell_type": "code",
   "execution_count": 2,
   "metadata": {
    "collapsed": false
   },
   "outputs": [
    {
     "data": {
      "text/plain": [
       "16"
      ]
     },
     "execution_count": 2,
     "metadata": {},
     "output_type": "execute_result"
    }
   ],
   "source": [
    "2**3 # notice only the last output is printed\n",
    "2**4"
   ]
  },
  {
   "cell_type": "code",
   "execution_count": 3,
   "metadata": {
    "collapsed": false
   },
   "outputs": [
    {
     "name": "stdout",
     "output_type": "stream",
     "text": [
      "8\n"
     ]
    },
    {
     "data": {
      "text/plain": [
       "16"
      ]
     },
     "execution_count": 3,
     "metadata": {},
     "output_type": "execute_result"
    }
   ],
   "source": [
    "print(2**3) # adding a print() function around the calculation make sure it is printed (though it isn't an Out[N])\n",
    "2**4"
   ]
  },
  {
   "cell_type": "markdown",
   "metadata": {
    "collapsed": false
   },
   "source": [
    "Calculate $\\frac{(3-4)^2-8\\times17}{5}$"
   ]
  },
  {
   "cell_type": "code",
   "execution_count": 4,
   "metadata": {
    "collapsed": false
   },
   "outputs": [
    {
     "data": {
      "text/plain": [
       "-1"
      ]
     },
     "execution_count": 4,
     "metadata": {},
     "output_type": "execute_result"
    }
   ],
   "source": [
    "(3-4)"
   ]
  },
  {
   "cell_type": "markdown",
   "metadata": {
    "collapsed": false
   },
   "source": [
    "## Using Python as a calculator for physics problems\n",
    "Consider this totally typical UP1 problem (copied from the 2016 UP1 activity manual)\n",
    "\n",
    "1. A ball is thrown upwards at 9 m/s toward a platform located 4.1 m above the point where you release the ball. Air resistance is negligable. *Find the time taken to reach the platform.*\n",
    "\n",
    "\n",
    "Two approaches to using Python as a calculator\n",
    "* Plug numbers directly into the equation\n",
    "* Define the constants and parameters, then symbolically write out the equation.\n",
    "\n",
    "I'll use displacement as a function of time $y = y_0 + v_{y0}t + \\frac{1}{2}at^2$ and solve using the quadratic equation."
   ]
  },
  {
   "cell_type": "code",
   "execution_count": 5,
   "metadata": {
    "collapsed": false
   },
   "outputs": [
    {
     "name": "stdout",
     "output_type": "stream",
     "text": [
      "0.8367346938775508\n",
      "1.0\n"
     ]
    }
   ],
   "source": [
    "print( ((-9) + (9**2 - 4*(-9.8/2)*(0-4.1))**0.5)/(2*(-9.8/2)) ) # one root\n",
    "print( ((-9) - (9**2 - 4*(-9.8/2)*(0-4.1))**0.5)/(2*(-9.8/2)) ) # the other root\n"
   ]
  },
  {
   "cell_type": "markdown",
   "metadata": {
    "collapsed": false
   },
   "source": []
  },
  {
   "cell_type": "code",
   "execution_count": 6,
   "metadata": {
    "collapsed": false
   },
   "outputs": [
    {
     "name": "stdout",
     "output_type": "stream",
     "text": [
      "0.8367346938775508\n",
      "1.0\n"
     ]
    }
   ],
   "source": [
    "y0 = 0\n",
    "yf = 4.1\n",
    "vy0 = 9\n",
    "a = -9.8\n",
    "print( (-vy0 + ( vy0**2 - 4*(0.5*a)*(y0-yf) )**0.5)/( 2*0.5*a ) )\n",
    "print( (-vy0 - ( vy0**2 - 4*(0.5*a)*(y0-yf) )**0.5)/( 2*0.5*a ) )\n",
    "t1 = (-vy0 + ( vy0**2 - 4*(0.5*a)*(y0-yf) )**0.5)/( 2*0.5*a)"
   ]
  },
  {
   "cell_type": "markdown",
   "metadata": {
    "collapsed": false
   },
   "source": [
    "### Tasks\n",
    "\n",
    "1. What are some pros or cons of the two different approaches? (Type your answer into a Markdown cell)\n",
    "2. For the same situation as above (ball thrown upward), *find the velocity when the ball reaches the platform.* (Use approach 2 where you define the variables). Note that the variables defined in one cell are accessible in all other cells."
   ]
  },
  {
   "cell_type": "code",
   "execution_count": null,
   "metadata": {
    "collapsed": false
   },
   "outputs": [],
   "source": []
  },
  {
   "cell_type": "markdown",
   "metadata": {
    "collapsed": false
   },
   "source": [
    "## Basic data types in Python\n",
    "\n",
    "* **integers**, such as `-1`, `0`, `2`, `3`, \n",
    "* **floats** (decimal numbers stored in scientific notation), such as `3.14`, `5e8`, `-2.2002`\n",
    "* **strings**, such as  `\"happy\"`, `\"birthday\"`, `\"spaces are okay too, and punctuation.\"`\n",
    "* **lists** of similar objects go in square brackets, such as `[1,2,3]` or `[\"happy\", \"birthday\", \"to\", \"you\"]` "
   ]
  },
  {
   "cell_type": "code",
   "execution_count": 7,
   "metadata": {
    "collapsed": false
   },
   "outputs": [
    {
     "data": {
      "text/plain": [
       "4"
      ]
     },
     "execution_count": 7,
     "metadata": {},
     "output_type": "execute_result"
    }
   ],
   "source": [
    "2 + 2 # addition, subtraction, multiplication works okay for integers"
   ]
  },
  {
   "cell_type": "code",
   "execution_count": 8,
   "metadata": {
    "collapsed": false
   },
   "outputs": [
    {
     "name": "stdout",
     "output_type": "stream",
     "text": [
      "[7, 10, -4, 23]\n"
     ]
    },
    {
     "data": {
      "text/plain": [
       "7"
      ]
     },
     "execution_count": 8,
     "metadata": {},
     "output_type": "execute_result"
    }
   ],
   "source": [
    "ltest = [7,10,-4,23] # creating a list of integers\n",
    "print(ltest)\n",
    "ltest[0] # access each element of a list using an index in square brackets, indexing starts at 0"
   ]
  },
  {
   "cell_type": "markdown",
   "metadata": {
    "collapsed": false
   },
   "source": [
    "### Tasks\n",
    "Insert one or more cells below and answer these questions.\n",
    "1. What happens when you do division with integers (for example, `3/2`, `17/5`)?\n",
    "1. If you have a calculation with an integer AND a float (for example `2*3.1415`) what data type is the output?\n",
    "1. Use scientific notation (e-notation) to define some basic physics constants, like $\\hbar$ and the electron charge $e$. \n",
    "1. Access the 4th element in the list `ltest` defined above"
   ]
  },
  {
   "cell_type": "markdown",
   "metadata": {
    "collapsed": false
   },
   "source": [
    "## Using Numpy package to create arrays of numbers for calculations\n",
    "\n",
    "Often times for calculations you want an array of numbers that spans some range of values. And then you want do do calculations on all those values. Scipy has a package Numpy (numerical python) that is used for array and matrix math. It required importing the numpy package to access all the functions."
   ]
  },
  {
   "cell_type": "code",
   "execution_count": 9,
   "metadata": {
    "collapsed": false
   },
   "outputs": [],
   "source": [
    "import numpy as np # you only need to import a package once in your notebook (usually best at the very top)"
   ]
  },
  {
   "cell_type": "code",
   "execution_count": 10,
   "metadata": {
    "collapsed": false
   },
   "outputs": [
    {
     "name": "stdout",
     "output_type": "stream",
     "text": [
      "[  0.    0.1   0.2   0.3   0.4   0.5   0.6   0.7   0.8   0.9   1.    1.1\n",
      "   1.2   1.3   1.4   1.5   1.6   1.7   1.8   1.9   2.    2.1   2.2   2.3\n",
      "   2.4   2.5   2.6   2.7   2.8   2.9   3.    3.1   3.2   3.3   3.4   3.5\n",
      "   3.6   3.7   3.8   3.9   4.    4.1   4.2   4.3   4.4   4.5   4.6   4.7\n",
      "   4.8   4.9   5.    5.1   5.2   5.3   5.4   5.5   5.6   5.7   5.8   5.9\n",
      "   6.    6.1   6.2   6.3   6.4   6.5   6.6   6.7   6.8   6.9   7.    7.1\n",
      "   7.2   7.3   7.4   7.5   7.6   7.7   7.8   7.9   8.    8.1   8.2   8.3\n",
      "   8.4   8.5   8.6   8.7   8.8   8.9   9.    9.1   9.2   9.3   9.4   9.5\n",
      "   9.6   9.7   9.8   9.9  10. ]\n"
     ]
    }
   ],
   "source": [
    "# now a bunch of new functions are accessible\n",
    "\n",
    "x = np.linspace(0,10, 101)  # make an array that starts at 0, ends at 10, and takes 101 steps.\n",
    "print(x)"
   ]
  },
  {
   "cell_type": "markdown",
   "metadata": {
    "collapsed": false
   },
   "source": [
    "Taking a subset of an array has a compact notation."
   ]
  },
  {
   "cell_type": "code",
   "execution_count": null,
   "metadata": {
    "collapsed": false
   },
   "outputs": [],
   "source": []
  },
  {
   "cell_type": "code",
   "execution_count": 11,
   "metadata": {
    "collapsed": false
   },
   "outputs": [
    {
     "data": {
      "text/plain": [
       "array([ 0. ,  0.1,  0.2,  0.3,  0.4,  0.5,  0.6,  0.7,  0.8,  0.9])"
      ]
     },
     "execution_count": 11,
     "metadata": {},
     "output_type": "execute_result"
    }
   ],
   "source": [
    "x[0:10]  #give me the elements starting at index 0 and ending (but not including) 10."
   ]
  },
  {
   "cell_type": "code",
   "execution_count": 12,
   "metadata": {
    "collapsed": false
   },
   "outputs": [
    {
     "data": {
      "text/plain": [
       "array([ 0. ,  0.2,  0.4,  0.6,  0.8])"
      ]
     },
     "execution_count": 12,
     "metadata": {},
     "output_type": "execute_result"
    }
   ],
   "source": [
    "x[0:10:2] # give me the elements starting at index 0, ending at 10, but increment index by 2"
   ]
  },
  {
   "cell_type": "markdown",
   "metadata": {
    "collapsed": false
   },
   "source": [
    "### Tasks\n",
    "1. What does array subset `x[-1:-10:-1]` do? Try it out and explain the results.\n",
    "1. Look up the official numpy documentation. What is the difference between the the `linspace()` function and `arange()` function?\n",
    "1. Create an array that goes between 0 and $4\\pi$ in 100 steps using the `arange()` function.\n"
   ]
  },
  {
   "cell_type": "code",
   "execution_count": 13,
   "metadata": {
    "collapsed": false
   },
   "outputs": [],
   "source": [
    "pi = np.pi"
   ]
  },
  {
   "cell_type": "markdown",
   "metadata": {
    "collapsed": false
   },
   "source": [
    "## Creating scatter and line plots using Matplotlib package\n",
    "\n",
    "In this course we will rely almost exclusively on the suite of plotting tools available in the matplotlib package. There is very good documentation and it is well-suited for scientific computing for physics."
   ]
  },
  {
   "cell_type": "code",
   "execution_count": 20,
   "metadata": {
    "collapsed": false
   },
   "outputs": [],
   "source": [
    "import matplotlib.pyplot as plt  # use this import statement to access the most useful plotting tools\n",
    "\n",
    "%matplotlib inline"
   ]
  },
  {
   "cell_type": "code",
   "execution_count": 21,
   "metadata": {
    "collapsed": false
   },
   "outputs": [
    {
     "data": {
      "text/plain": [
       "[<matplotlib.lines.Line2D at 0x78c7ef0>]"
      ]
     },
     "execution_count": 21,
     "metadata": {},
     "output_type": "execute_result"
    },
    {
     "data": {
      "image/png": "[encoded data removed]",
      "text/plain": [
       "<matplotlib.figure.Figure at 0x78724a8>"
      ]
     },
     "metadata": {},
     "output_type": "display_data"
    }
   ],
   "source": [
    "x = np.linspace(0,4*np.pi, 100)\n",
    "y1 = np.sin(x)\n",
    "y2 = np.cos(x)\n",
    "\n",
    "plt.plot(x,y1)"
   ]
  },
  {
   "cell_type": "code",
   "execution_count": 22,
   "metadata": {
    "collapsed": false
   },
   "outputs": [
    {
     "data": {
      "text/plain": [
       "<matplotlib.legend.Legend at 0x81ad390>"
      ]
     },
     "execution_count": 22,
     "metadata": {},
     "output_type": "execute_result"
    },
    {
     "data": {
      "image/png": "[encoded data removed]",
      "text/plain": [
       "<matplotlib.figure.Figure at 0x78e92b0>"
      ]
     },
     "metadata": {},
     "output_type": "display_data"
    }
   ],
   "source": [
    "# you can overlay two curves in the same figure by plotting both in the same cell\n",
    "plt.plot(x,y1, label=\"sin\")\n",
    "plt.plot(x,y2, label=\"cos\")\n",
    "plt.legend()"
   ]
  },
  {
   "cell_type": "code",
   "execution_count": 23,
   "metadata": {
    "collapsed": false
   },
   "outputs": [
    {
     "data": {
      "text/plain": [
       "<matplotlib.text.Text at 0x81ffa58>"
      ]
     },
     "execution_count": 23,
     "metadata": {},
     "output_type": "execute_result"
    },
    {
     "data": {
      "image/png": "[encoded data removed]",
      "text/plain": [
       "<matplotlib.figure.Figure at 0x81c4320>"
      ]
     },
     "metadata": {},
     "output_type": "display_data"
    }
   ],
   "source": [
    "# formatting can be added as well\n",
    "plt.plot(x,y1)\n",
    "plt.xlabel(\"Time (s)\")\n",
    "plt.ylabel(\"Position (m)\")\n",
    "plt.title(\"Oscillation of a mass on a spring\")"
   ]
  },
  {
   "cell_type": "markdown",
   "metadata": {
    "collapsed": false
   },
   "source": [
    "### Tasks\n",
    "1. Using the official matplotlib documentation (Google it!), look up the `xlabel()` function. How can you increase the label font size to 14 point font?\n",
    "1. Using the official matplotlib documentation, look up the `legend()` function. Redo the overlaid plot of $\\sin(x)$ and $\\cos(x)$ and label both curves (e.g. \"sin\" and \"cos\")."
   ]
  },
  {
   "cell_type": "code",
   "execution_count": null,
   "metadata": {
    "collapsed": false
   },
   "outputs": [],
   "source": []
  },
  {
   "cell_type": "markdown",
   "metadata": {
    "collapsed": false
   },
   "source": [
    "## Importing and plotting data\n",
    "\n",
    "It is always a good idea to first view a data in a text editor to identify the column headings and column delimiter (column separator).\n",
    "\n",
    "![screenshot of CSV file](screenshot_of_csv_file.JPG \"Optional title\")\n",
    "\n",
    "\n",
    "### Tasks\n",
    "\n",
    "1. Open the `torsion pendulum.csv` file on your own computer using a text editor.\n",
    "  * How many columns in the data set?\n",
    "  * How many header rows (rows used to label the columns)?\n",
    "  * What separates the columns? \n",
    "  * What does the abbreviation CSV stand form?  "
   ]
  },
  {
   "cell_type": "code",
   "execution_count": 24,
   "metadata": {
    "collapsed": false
   },
   "outputs": [],
   "source": [
    "import os # imports a set of \"operating system functions, for tasks like changing the current directory or listing files in a directory"
   ]
  },
  {
   "cell_type": "code",
   "execution_count": 25,
   "metadata": {
    "collapsed": false
   },
   "outputs": [
    {
     "data": {
      "text/plain": [
       "'C:\\\\Ben\\\\RIT\\\\Python\\\\Notebooks\\\\PHYS 225 Comp Phys Fall 2017\\\\Assignments'"
      ]
     },
     "execution_count": 25,
     "metadata": {},
     "output_type": "execute_result"
    }
   ],
   "source": [
    "os.getcwd()"
   ]
  },
  {
   "cell_type": "code",
   "execution_count": 26,
   "metadata": {
    "collapsed": false
   },
   "outputs": [
    {
     "data": {
      "text/plain": [
       "['.ipynb_checkpoints',\n",
       " 'Assignment1_intro.ipynb',\n",
       " 'screenshot_of_csv_file.JPG',\n",
       " 'torsion pendulum.csv']"
      ]
     },
     "execution_count": 26,
     "metadata": {},
     "output_type": "execute_result"
    }
   ],
   "source": [
    "os.listdir()"
   ]
  },
  {
   "cell_type": "markdown",
   "metadata": {
    "collapsed": false
   },
   "source": [
    "### Import data using Numpy `loadtxt()` \n",
    "The `loadtxt()` function loads data from a text file into a numpy array."
   ]
  },
  {
   "cell_type": "code",
   "execution_count": 27,
   "metadata": {
    "collapsed": false
   },
   "outputs": [],
   "source": [
    "data = np.loadtxt(\"torsion pendulum.csv\", skiprows=1, delimiter=',')"
   ]
  },
  {
   "cell_type": "code",
   "execution_count": 28,
   "metadata": {
    "collapsed": false
   },
   "outputs": [
    {
     "data": {
      "text/plain": [
       "array([[ 0.01      , -0.98203003,  0.47622234, ...,  0.22094992,\n",
       "         0.03803681, -0.21529192],\n",
       "       [ 0.02      , -0.98204321,  0.49986541, ...,  0.22388087,\n",
       "         0.03785476, -0.21517904],\n",
       "       [ 0.03      , -0.64572388,  0.16007045, ...,  0.22567222,\n",
       "         0.07210864, -0.22349128],\n",
       "       ..., \n",
       "       [ 7.21999979,  0.14598948,  6.87409878, ..., -0.21646793,\n",
       "        -0.04707724, -0.25885564],\n",
       "       [ 7.23000002,  0.15691473,  6.86100245, ..., -0.20108864,\n",
       "        -0.03501483, -0.27436966],\n",
       "       [ 7.23999977,  0.049796  ,  6.87398386, ..., -0.18434399,\n",
       "        -0.03746882, -0.26646158]])"
      ]
     },
     "execution_count": 28,
     "metadata": {},
     "output_type": "execute_result"
    }
   ],
   "source": [
    "# view the data (expect a lot of data!)\n",
    "data"
   ]
  },
  {
   "cell_type": "markdown",
   "metadata": {
    "collapsed": false
   },
   "source": [
    "### Taking subsets of arrays\n",
    "The array of data is two dimensional (2D). It has row and columns. \n",
    "\n",
    "    data[n,m]  # returns entry in the n-th row, m-th column\n",
    "    data[:,m]  # the colon : means returns all rows, mth column"
   ]
  },
  {
   "cell_type": "code",
   "execution_count": 29,
   "metadata": {
    "collapsed": false
   },
   "outputs": [],
   "source": [
    "t = data[:,0]  # the first column is time (according to the header row)\n",
    "ax = data[:,1] # the second column is x-component of acceleration"
   ]
  },
  {
   "cell_type": "code",
   "execution_count": 30,
   "metadata": {
    "collapsed": false
   },
   "outputs": [
    {
     "data": {
      "text/plain": [
       "[<matplotlib.lines.Line2D at 0x829f668>]"
      ]
     },
     "execution_count": 30,
     "metadata": {},
     "output_type": "execute_result"
    },
    {
     "data": {
      "image/png": "[encoded data removed]",
      "text/plain": [
       "<matplotlib.figure.Figure at 0x81fb588>"
      ]
     },
     "metadata": {},
     "output_type": "display_data"
    }
   ],
   "source": [
    "plt.plot(t,ax)"
   ]
  },
  {
   "cell_type": "markdown",
   "metadata": {
    "collapsed": false
   },
   "source": [
    "### Tasks\n",
    "1. How many columns are there all together? \n",
    "1. Create additional variable names for the other rows. Pick names that align with the column header (seen in the .csv file).\n",
    "1. Create a plot of the 5th column vs time. Label the axes.\n",
    "1. In the plot you just made, what is going on physically based on the data? "
   ]
  },
  {
   "cell_type": "code",
   "execution_count": null,
   "metadata": {
    "collapsed": false
   },
   "outputs": [],
   "source": []
  },
  {
   "cell_type": "markdown",
   "metadata": {
    "collapsed": false
   },
   "source": [
    "## Formatting a Jupyter notebook"
   ]
  },
  {
   "cell_type": "markdown",
   "metadata": {
    "collapsed": false
   },
   "source": [
    "Using examples provided in this notebook and the [official markdown syntax website](https://daringfireball.net/projects/markdown/syntax), do the following tasks.\n",
    "\n",
    "### Tasks\n",
    "1. Create a level 4 header with your name.\n",
    "1. Create a ordered list with your 3 favorite books, sports teams, or music artists.\n",
    "1. Type your favorite UP1 equation in LaTeX. [This page of LaTeX math symbols](http://web.ift.uib.no/Teori/KURS/WRK/TeX/symALL.html) is pretty helpful if you are new to LaTeX.\n",
    "1. Create a hyperlink to the Numpy official documentation.\n",
    "1. Take a picture using your phone, upload it to the assignment folder and display it in a markdown window. This is SUPER useful for project where you want to document an experimental setup or a device. Also, useful when you sketch a diagram and want to include it in a notebook.\n",
    "1. Browse the [Matplotlib gallery](http://matplotlib.org/gallery.html) to find a really cool plot and display it as a *linked image* in your own notebook. You can display an image from a another website if you copy the URL.\n"
   ]
  },
  {
   "cell_type": "markdown",
   "metadata": {
    "collapsed": false
   },
   "source": [
    "## Jupyter keyboard shortcuts\n",
    "\n",
    "### Tasks\n",
    "1. What is the Jupyter notebook keyboard shortcut for switching a cell to Markdown mode? Try it out!\n",
    "1. What is the Jupyter notebook keyboard shortcut for inserting a cell above? Try it out!\n",
    "1. Browse through a list of keyboard shortcuts. What other shortcuts might you use regularly?\n"
   ]
  },
  {
   "cell_type": "markdown",
   "metadata": {
    "collapsed": false
   },
   "source": [
    "## Importing and plotting your own data\n",
    "\n",
    "### Tasks\n",
    "1. Install the FREE (but totally cool!) [Physics Toolbox Apps](https://www.vieyrasoftware.net/) on your own (or a classmate's) Android or iOS smartphone. \n",
    "1. Collect some data of you doing something interesting (riding in an elevator, jumping on a trampoline, **be creative and curious**) and get some measurements.\n",
    "1. Upload your data to the CoCalc server for this assignment.\n",
    "1. Make a well-formatted plot.\n",
    "1. Explain what you were doing and interpret the data. What is going on? Was there anything interesting or surprising?"
   ]
  },
  {
   "cell_type": "code",
   "execution_count": null,
   "metadata": {
    "collapsed": false
   },
   "outputs": [],
   "source": []
  },
  {
   "cell_type": "code",
   "execution_count": null,
   "metadata": {
    "collapsed": true
   },
   "outputs": [],
   "source": []
  }
 ],
 "metadata": {
  "kernelspec": {
   "display_name": "Python 3",
   "language": "python",
   "name": "python3"
  },
  "language_info": {
   "codemirror_mode": {
    "name": "ipython",
    "version": 3
   },
   "file_extension": ".py",
   "mimetype": "text/x-python",
   "name": "python",
   "nbconvert_exporter": "python",
   "pygments_lexer": "ipython3",
   "version": "3.5.1"
  }
 },
 "nbformat": 4,
 "nbformat_minor": 0
}
