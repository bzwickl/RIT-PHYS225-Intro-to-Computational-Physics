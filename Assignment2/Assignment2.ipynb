{
 "cells": [
  {
   "cell_type": "markdown",
   "metadata": {
    "collapsed": false
   },
   "source": [
    "# Week 2\n",
    "Week 2 is a short week due to labor day. We only have one day of lab.  \n",
    "** The goals for Week 2 are: **\n",
    "1. Set up a free (glowscript)[http://www.glowscript.com] account to make 3D animations \n",
    "1. Implement the loop method for updating position and velocity of a particle in free fall\n",
    "    * First in glowscript (great for animation)\n",
    "    * Later in Python (great for plotting and all other analysis)\n",
    "1. Explore other initial conditions\n",
    "1. Do a computational experiment to answer a couple of physics questions."
   ]
  },
  {
   "cell_type": "markdown",
   "metadata": {
    "collapsed": false
   },
   "source": [
    "## Set up a glowscript account and make a ball drop simulation together\n",
    "\n",
    "![Glowscript screenshot](Screenshot_from_Glowscript.JPG)\n",
    "\n",
    "### Tasks\n",
    "\n",
    "1. Set up a glowscript account\n",
    "1. View the [glowscript example](http://www.glowscript.org/#/user/Zwickl/folder/Public/program/AtwoodLabSimulation)\n",
    "1. Review the loop algorithm for updating position and velocity\n",
    "1. Program a simulation of a free falling ball with Dr. Zwickl, which includes:\n",
    "    * A table.\n",
    "    * A ball, which starts 1 m above the table and is initially at rest.\n",
    "    * The ball is dropped and stops upon impacting the table.\n",
    "1. Improve the simulation, if necessary, to make a sensible animation.\n",
    "\n"
   ]
  },
  {
   "cell_type": "markdown",
   "metadata": {
    "collapsed": false
   },
   "source": [
    "## Transition the code from Glowscript to Python\n",
    "\n",
    "The example program simulates a free falling ball, which includes:\n",
    "* A ball, which starts 1 m above the origin of the coordinate system (the ground) and is initially at rest.\n",
    "* The ball is dropped for 1 second.  \n",
    "\n",
    "Here is a working example of python code"
   ]
  },
  {
   "cell_type": "code",
   "execution_count": 1,
   "metadata": {
    "collapsed": false
   },
   "outputs": [],
   "source": [
    "import numpy as np\n",
    "import matplotlib.pyplot as plt\n",
    "%matplotlib inline"
   ]
  },
  {
   "cell_type": "code",
   "execution_count": 2,
   "metadata": {
    "collapsed": false
   },
   "outputs": [],
   "source": [
    "pos = np.array([0,1,0]) # define initial [x,y,z] position\n",
    "vel = np.array([0,0,0]) # define initial velocity\n",
    "acc = np.array([0,-9.8,0])# acceleration\n",
    "\n",
    "t = 0 # intitial time\n",
    "dt = 0.01 # time step \n",
    "\n",
    "t_points = []  # makes a empty list to record the times\n",
    "pos_points = [] # makes an empty list to record hte position\n",
    "\n",
    "while t < 1:  # loop until the time is equal or greater than one.\n",
    "    pos = pos + vel*dt # update position\n",
    "    vel = vel + acc*dt # update velocity\n",
    "    pos_points.append(pos)  # append a new position to end of position list\n",
    "    t_points.append(t)  # append a new time to end of time list\n",
    "    t = t + dt  # increment the time"
   ]
  },
  {
   "cell_type": "code",
   "execution_count": 3,
   "metadata": {
    "collapsed": false
   },
   "outputs": [
    {
     "name": "stdout",
     "output_type": "stream",
     "text": [
      "[0, 1, 2, 4]\n"
     ]
    }
   ],
   "source": [
    "# example of appending a list\n",
    "l = [0,1,2] # define generic list\n",
    "l.append(4) # append a number to the end\n",
    "print(l)"
   ]
  },
  {
   "cell_type": "code",
   "execution_count": 4,
   "metadata": {
    "collapsed": false
   },
   "outputs": [
    {
     "data": {
      "text/plain": [
       "<matplotlib.legend.Legend at 0x737f6d8>"
      ]
     },
     "execution_count": 4,
     "metadata": {},
     "output_type": "execute_result"
    },
    {
     "data": {
      "image/png": "[encoded data removed]",
      "text/plain": [
       "<matplotlib.figure.Figure at 0x71cd470>"
      ]
     },
     "metadata": {},
     "output_type": "display_data"
    }
   ],
   "source": [
    "pos_points = np.array(pos_points)  # converts a list of position arrays to a 2D numpy array\n",
    "t_points = np.array(t_points) # converts a list of times to a 1D array of times\n",
    "\n",
    "plt.plot(t_points, pos_points[:,0], label=\"x position\")  # plot all rows, 0th column to get x values\n",
    "plt.plot(t_points, pos_points[:,1], label=\"y position\")  # plot all rows, 1st column to get y values\n",
    "plt.plot(t_points, pos_points[:,2], label=\"z position\")  # plot all rows, 2nd column to get z values\n",
    "plt.legend()"
   ]
  },
  {
   "cell_type": "markdown",
   "metadata": {
    "collapsed": false
   },
   "source": [
    "### Tasks\n",
    "\n",
    "1. Run the code yourself to make sure it works.\n",
    "1. Add comments to each line of code to explain what it does.  You can test a single line of code in a new cell. Or look up help online. \n",
    "1. Create a new list to keep a record of the velocity at each moment of time.\n",
    "1. Make a plot of velocity vs time for each of the three components."
   ]
  },
  {
   "cell_type": "markdown",
   "metadata": {
    "collapsed": false
   },
   "source": [
    "## Explore other initial conditions.\n",
    "\n",
    "### Tasks\n",
    "1. Create a new copy of your ball drop code to edit.\n",
    "1. Modify initial condition to assume you are launching from ground-level.\n",
    "1. Vary the initial conditions of the ball to create plots showing trajectories (y vs x plots). (Do one!)\n",
    "    * at different launch angles\n",
    "    * at different launch speeds\n"
   ]
  },
  {
   "cell_type": "code",
   "execution_count": 5,
   "metadata": {
    "collapsed": false
   },
   "outputs": [
    {
     "data": {
      "text/plain": [
       "[<matplotlib.lines.Line2D at 0x7961c50>]"
      ]
     },
     "execution_count": 5,
     "metadata": {},
     "output_type": "execute_result"
    },
    {
     "data": {
      "image/png": "[encoded data removed]",
      "text/plain": [
       "<matplotlib.figure.Figure at 0x775d6a0>"
      ]
     },
     "metadata": {},
     "output_type": "display_data"
    },
    {
     "data": {
      "image/png": "[encoded data removed]",
      "text/plain": [
       "<matplotlib.figure.Figure at 0x79ba2e8>"
      ]
     },
     "metadata": {},
     "output_type": "display_data"
    }
   ],
   "source": [
    "pos = np.array([0,0,0])  # set initial position [x0, y0 ,z0]\n",
    "vel = np.array([5,5,0])\n",
    "acc = np.array([0,-9.8,0])\n",
    "\n",
    "t = 0\n",
    "dt = 0.01\n",
    "\n",
    "t_points = []  # creates an empty list, to be filled up with time values\n",
    "pos_points = [] # creates an empty list, to be filled with positions\n",
    "\n",
    "while pos[1] >= 0: # loop while the y position is greater than zero\n",
    "    pos = pos + vel*dt # update position\n",
    "    vel = vel + acc*dt\n",
    "    pos_points.append(pos)  # appends a new position vector/array to pos_points list\n",
    "    t_points.append(t) # appends a new time to the t_point list\n",
    "    t = t + dt # update time\n",
    "    \n",
    "pos_points = np.array(pos_points) # convert pos_points to a 2D numpy array with rows and columns\n",
    "t_points = np.array(t_points) # converts list to a 1D array of times\n",
    "\n",
    "plt.plot(t_points, pos_points[:,0], label=\"x position\")\n",
    "plt.plot(t_points, pos_points[:,1], label=\"y position\")\n",
    "plt.plot(t_points, pos_points[:,2], label=\"z position\")\n",
    "plt.legend()\n",
    "\n",
    "pos_points_trial1 = pos_points # create a new variable to store each trial\n",
    "\n",
    "plt.figure()\n",
    "plt.plot(pos_points_trial1[:,0],pos_points_trial1[:,1])  # a plot of y vs x"
   ]
  },
  {
   "cell_type": "raw",
   "metadata": {
    "collapsed": false
   },
   "source": []
  },
  {
   "cell_type": "markdown",
   "metadata": {
    "collapsed": false
   },
   "source": [
    "## Doing a computational experiment\n",
    "One value of computational models is the ability to make predictions for a wide range of settings in the model. In this case you are asked to explore the effects of varying the initial conditions (launch speed and angle).\n",
    "\n",
    "### Tasks\n",
    "\n",
    "1. Using your simulation, make a plot of range (horizontal distance travelled before impacting the ground) as a function of launch angle. \n",
    "    * Which angle produces the largest range? Provide evidence from your simulation as evidence.\n",
    "1. Using your simulation, make a plot of range (horizontal distance travelled before impacting the ground) as a function of launch speed.\n",
    "    * How does the range depend on the launch speed? Does range increase linearly with speed, quadratically with speed, or something else? Provide evidence from your simulation as evidence.\n"
   ]
  },
  {
   "cell_type": "code",
   "execution_count": 0,
   "metadata": {
    "collapsed": false
   },
   "outputs": [],
   "source": []
  }
 ],
 "metadata": {
  "kernelspec": {
   "display_name": "Python 3",
   "language": "python",
   "name": "python3"
  },
  "language_info": {
   "codemirror_mode": {
    "name": "ipython",
    "version": 3
   },
   "file_extension": ".py",
   "mimetype": "text/x-python",
   "name": "python",
   "nbconvert_exporter": "python",
   "pygments_lexer": "ipython3",
   "version": "3.5.1"
  }
 },
 "nbformat": 4,
 "nbformat_minor": 0
}
